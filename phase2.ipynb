{
 "cells": [
  {
   "cell_type": "markdown",
   "metadata": {},
   "source": [
    "## **Auditing Algorithmic Detection of Welfare Fraud**\n",
    "#### **Final Project Phase 2**\n",
    "*Tanvi Namjoshi, Dylan Van Bramer, Madeline Demers, Ella White*\n",
    "\n",
    "In this report we conduct preliminary analysis of the sythetic data sourced by Lighthouse Reports, as well as the welfare fraud algorithm provided. The original source for the data can be found here:[ https://github.com/Lighthouse-Reports/suspicion_machine/tree/main](https://github.com/Lighthouse-Reports/suspicion_machine/tree/main)"
   ]
  },
  {
   "cell_type": "code",
   "execution_count": null,
   "metadata": {},
   "outputs": [
    {
     "ename": "",
     "evalue": "",
     "output_type": "error",
     "traceback": [
      "\u001b[1;31mFailed to start the Kernel. \n",
      "\u001b[1;31mEPERM: operation not permitted, scandir '/Users/tanvinamjoshi/Desktop/welfare_audit'. \n",
      "\u001b[1;31mView Jupyter <a href='command:jupyter.viewOutput'>log</a> for further details."
     ]
    }
   ],
   "source": [
    "import pandas as pd\n",
    "import numpy as np\n",
    "import matplotlib.pyplot as plt\n",
    "import sklearn"
   ]
  },
  {
   "attachments": {},
   "cell_type": "markdown",
   "metadata": {},
   "source": [
    "**Part One: Data Imports and Data Cleaning**\n",
    "\n",
    "The data we sourced was used in the Netherlands, and therefore all the column labels were in Dutch. This data can be found in the file `synth_data.csv`. To help us better understand the data, and as a preliminary cleaning step, we first translated all the column labels into English using Google Translate. This was done manually without code. The translated data can be found in the file `translated_synth_data.csv`. Another note to cleaning, the data journalists that originally sourced this data and the model code did some cleaning of their own. For more information on how they cleaned the data please refer to [https://pulitzercenter.org/stories/suspicion-machines-methodology](https://pulitzercenter.org/stories/suspicion-machines-methodology#:~:text=Appendix%20II.%20Data%20Preparation). In the two code cells below, we display the first 5 rows of both the Dutch and English data files. "
   ]
  },
  {
   "cell_type": "code",
   "execution_count": null,
   "metadata": {},
   "outputs": [],
   "source": [
    "raw_data = pd.read_csv('synth_data.csv')\n",
    "raw_data.head()"
   ]
  },
  {
   "cell_type": "code",
   "execution_count": null,
   "metadata": {},
   "outputs": [],
   "source": [
    "# rename columns to english version\n",
    "translated_data = pd.read_csv('translated_synth_data.csv')\n",
    "translated_data.head()"
   ]
  },
  {
   "cell_type": "markdown",
   "metadata": {},
   "source": [
    "**Part Two: Summary Statistics**\n"
   ]
  },
  {
   "cell_type": "code",
   "execution_count": null,
   "metadata": {},
   "outputs": [],
   "source": []
  },
  {
   "cell_type": "markdown",
   "metadata": {},
   "source": [
    "**Part Three: Research Question, Hypotheses, and Analysis Plan**\n"
   ]
  },
  {
   "cell_type": "markdown",
   "metadata": {},
   "source": [
    "**Part Four: Modelling**"
   ]
  },
  {
   "cell_type": "code",
   "execution_count": null,
   "metadata": {},
   "outputs": [],
   "source": []
  },
  {
   "cell_type": "markdown",
   "metadata": {},
   "source": [
    "**Part Five: Results**"
   ]
  },
  {
   "cell_type": "code",
   "execution_count": null,
   "metadata": {},
   "outputs": [],
   "source": []
  },
  {
   "cell_type": "markdown",
   "metadata": {},
   "source": [
    "**Part Six: Contribution Notes**\n",
    "* Tanvi: \n",
    "* Ella: \n",
    "* Dylan: \n",
    "* Maddy: "
   ]
  },
  {
   "cell_type": "markdown",
   "metadata": {},
   "source": [
    "**Part Seven: Sources Cited**\n"
   ]
  }
 ],
 "metadata": {
  "kernelspec": {
   "display_name": "hw_env",
   "language": "python",
   "name": "python3"
  },
  "language_info": {
   "codemirror_mode": {
    "name": "ipython",
    "version": 3
   },
   "file_extension": ".py",
   "mimetype": "text/x-python",
   "name": "python",
   "nbconvert_exporter": "python",
   "pygments_lexer": "ipython3",
   "version": "3.9.7"
  },
  "orig_nbformat": 4,
  "vscode": {
   "interpreter": {
    "hash": "860c617c8413ddf6e94fbe95f27898921bd19eeeddbb4e69ad3cb3e77d5dbc06"
   }
  }
 },
 "nbformat": 4,
 "nbformat_minor": 2
}
